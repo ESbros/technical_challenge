{
 "cells": [
  {
   "cell_type": "code",
   "execution_count": 1,
   "metadata": {},
   "outputs": [],
   "source": [
    "from langchain_core.messages import HumanMessage\n",
    "from langgraph.graph import StateGraph, START, END\n",
    "from langgraph.prebuilt import create_react_agent\n",
    "from langchain_openai import ChatOpenAI\n",
    "from langchain_core.messages import BaseMessage, HumanMessage\n",
    "from langgraph.types import Command\n",
    "from typing import Literal\n",
    "from langgraph.graph import MessagesState, END\n",
    "from langchain_core.tools import tool"
   ]
  },
  {
   "cell_type": "code",
   "execution_count": 2,
   "metadata": {},
   "outputs": [],
   "source": [
    "import getpass\n",
    "import os\n",
    "\n",
    "\n",
    "def _set_if_undefined(var: str):\n",
    "    if not os.environ.get(var):\n",
    "        os.environ[var] = getpass.getpass(f\"Please provide your {var}\")\n",
    "\n",
    "\n",
    "_set_if_undefined(\"OPENAI_API_KEY\")\n",
    "_set_if_undefined(\"TAVILY_API_KEY\")"
   ]
  },
  {
   "cell_type": "code",
   "execution_count": 3,
   "metadata": {},
   "outputs": [],
   "source": [
    "from typing import Annotated\n",
    "\n",
    "from langchain_community.tools.tavily_search import TavilySearchResults\n",
    "from langchain_core.tools import tool\n",
    "\n",
    "tavily_tool = TavilySearchResults(max_results=5)"
   ]
  },
  {
   "cell_type": "markdown",
   "metadata": {},
   "source": [
    "### Define Tools"
   ]
  },
  {
   "cell_type": "code",
   "execution_count": 4,
   "metadata": {},
   "outputs": [
    {
     "name": "stderr",
     "output_type": "stream",
     "text": [
      "USER_AGENT environment variable not set, consider setting it to identify your requests.\n"
     ]
    }
   ],
   "source": [
    "import re\n",
    "from urllib.parse import urlparse\n",
    "\n",
    "from typing import Annotated, List\n",
    "\n",
    "from langchain_community.document_loaders import WebBaseLoader\n",
    "\n",
    "\n",
    "@tool\n",
    "def scrape_webpages(urls: List[str]) -> str:\n",
    "    \"\"\"Use requests and bs4 to scrape the provided web pages for detailed information.\"\"\"\n",
    "    loader = WebBaseLoader(urls)\n",
    "    docs = loader.load()\n",
    "    return \"\\n\\n\".join(\n",
    "        [\n",
    "            f'<Document name=\"{doc.metadata.get(\"title\", \"\")}\">\\n{doc.page_content}\\n</Document>'\n",
    "            for doc in docs\n",
    "        ]\n",
    "    )\n",
    "\n",
    "\n",
    "@tool\n",
    "def is_valid_url(url: str) -> str:\n",
    "    \"\"\"Use to validate that the input URL is able for processing\"\"\"\n",
    "    if not url:  # Check for empty string\n",
    "        return False\n",
    "\n",
    "    # Regex Check (Quick initial filter)\n",
    "    regex = r\"^(?:http(s)?:\\/\\/)?[\\w.-]+(?:\\.[\\w\\.-]+)+[\\w\\-\\._~:/?#[\\]@!\\$&'\\(\\)\\*\\+,;=.]+$\"\n",
    "    if not re.match(regex, url):\n",
    "        return 'Invalid URL'\n",
    "\n",
    "    try:\n",
    "        parsed_url = urlparse(url)\n",
    "\n",
    "        # Check if scheme contains http/https\n",
    "        if not parsed_url.scheme:\n",
    "          return 'Invalid URL'\n",
    "\n",
    "        # Check if network location is present\n",
    "        if not parsed_url.netloc:\n",
    "            return 'Invalid URL'\n",
    "        \n",
    "        return 'Valid URL'\n",
    "\n",
    "    except Exception:\n",
    "        return 'Invalid URL'\n",
    "    \n",
    "\n",
    "def get_next_node(last_message: BaseMessage, goto: str):\n",
    "    if \"Invalid URL\" in last_message.content or \"invalid URL\" in last_message.content:\n",
    "        return END\n",
    "    return goto\n",
    "\n",
    "def get_next_node_based_on_text_existence(last_message: BaseMessage, goto: str):\n",
    "    if len(last_message.content) <= 100:\n",
    "        return END\n",
    "    return goto"
   ]
  },
  {
   "cell_type": "markdown",
   "metadata": {},
   "source": [
    "### Helper Functions"
   ]
  },
  {
   "cell_type": "code",
   "execution_count": 5,
   "metadata": {},
   "outputs": [],
   "source": [
    "from langchain_core.language_models.chat_models import BaseChatModel\n",
    "from typing_extensions import TypedDict\n",
    "\n",
    "class State(MessagesState):\n",
    "    next: str\n",
    "\n",
    "\n",
    "def make_supervisor_node(llm: BaseChatModel, members: list[str]) -> str:\n",
    "    options = [\"FINISH\"] + members\n",
    "    system_prompt = (\n",
    "        \"You are a supervisor tasked with managing a conversation between the\"\n",
    "        f\" following workers: {members}. Given the following user request,\"\n",
    "        \" respond with the worker to act next. Each worker will perform a\"\n",
    "        \" task and respond with their results and status. When finished,\"\n",
    "        \" respond with FINISH.\"\n",
    "    )\n",
    "\n",
    "    class Router(TypedDict):\n",
    "        \"\"\"Worker to route to next. If no workers needed, route to FINISH.\"\"\"\n",
    "\n",
    "        next: Literal[*options]\n",
    "\n",
    "    def supervisor_node(state: State) -> Command[Literal[*members, \"__end__\"]]:\n",
    "        \"\"\"An LLM-based router.\"\"\"\n",
    "        messages = [\n",
    "            {\"role\": \"system\", \"content\": system_prompt},\n",
    "        ] + state[\"messages\"]\n",
    "        response = llm.with_structured_output(Router).invoke(messages)\n",
    "        goto = response[\"next\"]\n",
    "        if goto == \"FINISH\":\n",
    "            goto = END\n",
    "\n",
    "        return Command(goto=goto, update={\"next\": goto})\n",
    "\n",
    "    return supervisor_node"
   ]
  },
  {
   "cell_type": "markdown",
   "metadata": {},
   "source": [
    "### Input Validation Team"
   ]
  },
  {
   "cell_type": "code",
   "execution_count": 6,
   "metadata": {},
   "outputs": [],
   "source": [
    "llm = ChatOpenAI(model=\"gpt-4o\", temperature=0)\n",
    "\n",
    "\n",
    "''' Input Agent '''\n",
    "input_agent = create_react_agent(\n",
    "    llm, \n",
    "    tools=[is_valid_url],\n",
    "    prompt=(\n",
    "        \"You are only in charge of validating the URL, do not modify the URL in any way.\"\n",
    "        \"If you identify that the URL is invalid, please stop by Invalid URL identification.\"\n",
    "    )\n",
    ")\n",
    "\n",
    "def input_node(state: MessagesState) -> Command[Literal[\"web_scraper\", END]]:\n",
    "    result = input_agent.invoke(state)\n",
    "    goto = get_next_node(result[\"messages\"][-1], \"web_scraper\")\n",
    "    return Command(\n",
    "        update={\n",
    "            \"messages\": [\n",
    "                HumanMessage(content=result[\"messages\"][-1].content, name=\"input\")\n",
    "            ]\n",
    "        },\n",
    "        goto=goto,\n",
    "    )\n",
    "\n",
    "\n",
    "''' Web Scraper Agent '''\n",
    "web_scraper_agent = create_react_agent(\n",
    "    llm, \n",
    "    tools=[scrape_webpages],\n",
    ")\n",
    "\n",
    "def web_scraper_node(state: MessagesState) -> Command[Literal[\"content_formatting\", END]]:\n",
    "    result = web_scraper_agent.invoke(state)\n",
    "    goto = get_next_node_based_on_text_existence(result[\"messages\"][-1], \"content_formatting\")\n",
    "    return Command(\n",
    "        update={\n",
    "            \"messages\": [\n",
    "                HumanMessage(content=result[\"messages\"][-1].content, name=\"web_scraper\")\n",
    "            ]\n",
    "        },\n",
    "        goto=goto,\n",
    "    )\n",
    "\n",
    "\n",
    "''' Content Formatting Agent '''\n",
    "content_formatting_agent = create_react_agent(\n",
    "    llm,\n",
    "    tools=[],\n",
    "    prompt=(\n",
    "        \"You are an agent tasked to improve the formatting of the content scraped from the a web page.\"\n",
    "        \"Structure the extracted content into a readable format.\"\n",
    "        \"Organize the text using headings, bullet points, or summary sections.\"\n",
    "        \"Normalize and removes unwanted characters or redundant data.\"\n",
    "    )\n",
    ")\n",
    "\n",
    "def content_formatting_node(state: MessagesState) -> Command[Literal[END]]:\n",
    "    result = content_formatting_agent.invoke(state)\n",
    "    return Command(\n",
    "        update={\n",
    "            \"messages\": [\n",
    "                HumanMessage(content=result[\"messages\"][-1].content, name=\"content_formatting\")\n",
    "            ]\n",
    "        },\n",
    "        goto=END,\n",
    "    )"
   ]
  },
  {
   "cell_type": "code",
   "execution_count": 7,
   "metadata": {},
   "outputs": [],
   "source": [
    "from langgraph.graph import StateGraph, START\n",
    "\n",
    "workflow_preprocessing = StateGraph(MessagesState)\n",
    "workflow_preprocessing.add_node(\"input\", input_node)\n",
    "workflow_preprocessing.add_node(\"web_scraper\", web_scraper_node)\n",
    "workflow_preprocessing.add_node(\"content_formatting\", content_formatting_node)\n",
    "\n",
    "workflow_preprocessing.add_edge(START, \"input\")\n",
    "preprocessing_graph = workflow_preprocessing.compile()"
   ]
  },
  {
   "cell_type": "code",
   "execution_count": 8,
   "metadata": {},
   "outputs": [
    {
     "data": {
      "image/png": "[encoded data removed]",
      "text/plain": [
       "<IPython.core.display.Image object>"
      ]
     },
     "metadata": {},
     "output_type": "display_data"
    }
   ],
   "source": [
    "from IPython.display import Image, display\n",
    "\n",
    "try:\n",
    "    display(Image(preprocessing_graph.get_graph().draw_mermaid_png()))\n",
    "except Exception:\n",
    "    pass"
   ]
  },
  {
   "cell_type": "code",
   "execution_count": 9,
   "metadata": {},
   "outputs": [
    {
     "name": "stdout",
     "output_type": "stream",
     "text": [
      "{'input': {'messages': [HumanMessage(content='The URL \"https://es.wikipedia.org/wiki/Ecuador\" is valid for processing.', additional_kwargs={}, response_metadata={}, name='input', id='094dfe82-eaf4-45f0-883c-6c17f55e592e')]}}\n",
      "-----------------------------------\n",
      "{'web_scraper': {'messages': [HumanMessage(content='He extraído la información de la página de Wikipedia sobre Ecuador. Aquí tienes un resumen de los principales temas cubiertos en el artículo:\\n\\n1. **Toponimia**: El nombre \"Ecuador\" hace referencia a la línea ecuatorial que atraviesa el país.\\n\\n2. **Historia**: \\n   - **Era prehispánica**: Incluye culturas como la Valdivia, una de las más antiguas en América.\\n   - **Época Virreinal**: Conquista española y establecimiento de la Real Audiencia de Quito.\\n   - **Independencia y Gran Colombia**: Proceso de independencia de España y posterior unión a la Gran Colombia.\\n   - **Primer siglo de la República**: Incluye la dominación floreana y la Revolución Liberal.\\n   - **Velasquismo y gobiernos militares**: Periodo de inestabilidad política y dictaduras militares.\\n   - **Historia contemporánea**: Desde el retorno a la democracia en 1979 hasta la actualidad.\\n\\n3. **Estado y política**: Ecuador es una república presidencialista con cinco funciones estatales: Ejecutiva, Legislativa, Judicial, Electoral y de Transparencia y Control Social.\\n\\n4. **Organización territorial**: El país se divide en 24 provincias, que a su vez se subdividen en cantones y parroquias.\\n\\n5. **Geografía**: Ecuador se encuentra en la línea ecuatorial y tiene una geografía diversa que incluye la región andina, la costa, la Amazonía y las Islas Galápagos.\\n\\n6. **Demografía**: Ecuador tiene una población diversa con una mayoría mestiza. El español es el idioma oficial, junto con el kichwa y el shuar.\\n\\n7. **Economía**: Basada en la exportación de petróleo, banano, flores y camarones. La economía ha experimentado crecimiento y desafíos, especialmente con la caída de los precios del petróleo.\\n\\n8. **Cultura**: Rica en tradiciones y expresiones artísticas, con influencias indígenas, africanas y europeas. La música, la literatura y las artes plásticas son prominentes.\\n\\n9. **Gastronomía**: Varía según la región, con platos típicos como el encebollado, el cuy asado y el hornado.\\n\\n10. **Deporte**: El fútbol es el deporte más popular, pero también destacan el atletismo y el ciclismo.\\n\\nSi necesitas más detalles sobre algún tema específico, házmelo saber.', additional_kwargs={}, response_metadata={}, name='web_scraper', id='fad99619-628f-4e08-b78f-9635652dbff4')]}}\n",
      "-----------------------------------\n",
      "{'content_formatting': {'messages': [HumanMessage(content='Aquí tienes un resumen estructurado de la información sobre Ecuador extraída de Wikipedia:\\n\\n---\\n\\n### Ecuador\\n\\n#### 1. Toponimia\\n- El nombre \"Ecuador\" se refiere a la línea ecuatorial que atraviesa el país.\\n\\n#### 2. Historia\\n- **Era Prehispánica**: Culturas antiguas como la Valdivia.\\n- **Época Virreinal**: Conquista española y la Real Audiencia de Quito.\\n- **Independencia y Gran Colombia**: Proceso de independencia y unión a la Gran Colombia.\\n- **Primer Siglo de la República**: Dominación floreana y Revolución Liberal.\\n- **Velasquismo y Gobiernos Militares**: Inestabilidad política y dictaduras.\\n- **Historia Contemporánea**: Desde 1979 con el retorno a la democracia.\\n\\n#### 3. Estado y Política\\n- República presidencialista.\\n- Cinco funciones estatales: Ejecutiva, Legislativa, Judicial, Electoral, y de Transparencia y Control Social.\\n\\n#### 4. Organización Territorial\\n- Dividido en 24 provincias.\\n- Provincias subdivididas en cantones y parroquias.\\n\\n#### 5. Geografía\\n- Ubicado en la línea ecuatorial.\\n- Regiones: Andina, Costa, Amazonía, y Galápagos.\\n\\n#### 6. Demografía\\n- Población mayoritariamente mestiza.\\n- Idiomas oficiales: Español, Kichwa, y Shuar.\\n\\n#### 7. Economía\\n- Basada en exportaciones: petróleo, banano, flores, y camarones.\\n- Crecimiento y desafíos económicos, especialmente por la fluctuación de precios del petróleo.\\n\\n#### 8. Cultura\\n- Influencias indígenas, africanas, y europeas.\\n- Destacan la música, literatura, y artes plásticas.\\n\\n#### 9. Gastronomía\\n- Varía por región.\\n- Platos típicos: encebollado, cuy asado, y hornado.\\n\\n#### 10. Deporte\\n- Fútbol es el deporte más popular.\\n- También destacan el atletismo y el ciclismo.\\n\\n---\\n\\nSi necesitas más información sobre algún tema específico, no dudes en preguntar.', additional_kwargs={}, response_metadata={}, name='content_formatting', id='d22c94ce-0e6b-4ad0-bae1-444fa559bb69')]}}\n",
      "-----------------------------------\n"
     ]
    }
   ],
   "source": [
    "events = preprocessing_graph.stream(\n",
    "    {\n",
    "        \"messages\": [\n",
    "            (\n",
    "                \"user\",\n",
    "                \"Scrap the following URL: https://es.wikipedia.org/wiki/Ecuador\",\n",
    "            )\n",
    "        ],\n",
    "    },\n",
    "    # Maximum number of steps to take in the graph\n",
    "    {\"recursion_limit\": 10},\n",
    ")\n",
    "for s in events:\n",
    "    print(s)\n",
    "    print(\"-----------------------------------\")"
   ]
  },
  {
   "cell_type": "markdown",
   "metadata": {},
   "source": [
    "### Text Analyzer"
   ]
  },
  {
   "cell_type": "code",
   "execution_count": 10,
   "metadata": {},
   "outputs": [],
   "source": [
    "llm = ChatOpenAI(model=\"gpt-4o\")\n",
    "\n",
    "analizer_agent = create_react_agent(\n",
    "    llm,\n",
    "    tools=[],\n",
    "    prompt=(\n",
    "        \"Improve the following text by considering\"\n",
    "        \"cross-references information to identify biases, missing perspectives, or additional context.\"\n",
    "        \"Ask for help if there is any information that you need to clarify.\"\n",
    "    ),\n",
    ")\n",
    "\n",
    "def analyzer_node(state: State) -> Command[Literal[\"supervisor\"]]:\n",
    "    result = analizer_agent.invoke(state)\n",
    "    return Command(\n",
    "        update={\n",
    "            \"messages\": [\n",
    "                HumanMessage(content=result[\"messages\"][-1].content, name=\"analyzer\")\n",
    "            ]\n",
    "        },\n",
    "        goto=\"supervisor\",\n",
    "    )\n",
    "\n",
    "\n",
    "research_agent = create_react_agent(\n",
    "    llm,\n",
    "    tools=[tavily_tool],\n",
    "    prompt=(\n",
    "        \"You are a researcher tasked with finding additional information on the topic.\"\n",
    "    ),\n",
    ")\n",
    "\n",
    "def research_node(state: State) -> Command[Literal[\"supervisor\"]]:\n",
    "    result = research_agent.invoke(state)\n",
    "    return Command(\n",
    "        update={\n",
    "            \"messages\": [\n",
    "                HumanMessage(content=result[\"messages\"][-1].content, name=\"researcher\")\n",
    "            ]\n",
    "        },\n",
    "        goto=\"supervisor\",\n",
    "    )\n",
    "\n",
    "\n",
    "summarizer_agent = create_react_agent(\n",
    "    llm, \n",
    "    tools=[],\n",
    "    prompt=(\n",
    "        \"You are a summarizer agent in charge of generating a structured analyticasl report based on key findings.\"\n",
    "    )\n",
    ")\n",
    "\n",
    "def summarizer_node(state: State) -> Command[Literal[\"supervisor\"]]:\n",
    "    result = summarizer_agent.invoke(state)\n",
    "    return Command(\n",
    "        update={\n",
    "            \"messages\": [\n",
    "                HumanMessage(\n",
    "                    content=result[\"messages\"][-1].content, name=\"summarizer\"\n",
    "                )\n",
    "            ]\n",
    "        },\n",
    "        goto=\"supervisor\",\n",
    "    )\n",
    "\n",
    "\n",
    "doc_analyzer_node = make_supervisor_node(\n",
    "    llm, [\"analyzer\", \"researcher\", \"summarizer\"]\n",
    ")"
   ]
  },
  {
   "cell_type": "code",
   "execution_count": 11,
   "metadata": {},
   "outputs": [],
   "source": [
    "# Create the graph here\n",
    "analyzer_builder = StateGraph(State)\n",
    "analyzer_builder.add_node(\"supervisor\", doc_analyzer_node)\n",
    "analyzer_builder.add_node(\"analyzer\", analyzer_node)\n",
    "analyzer_builder.add_node(\"researcher\", research_node)\n",
    "analyzer_builder.add_node(\"summarizer\", summarizer_node)\n",
    "\n",
    "analyzer_builder.add_edge(START, \"supervisor\")\n",
    "analyzer_graph = analyzer_builder.compile()"
   ]
  },
  {
   "cell_type": "code",
   "execution_count": 12,
   "metadata": {},
   "outputs": [
    {
     "data": {
      "image/png": "[encoded data removed]",
      "text/plain": [
       "<IPython.core.display.Image object>"
      ]
     },
     "metadata": {},
     "output_type": "display_data"
    }
   ],
   "source": [
    "from IPython.display import Image, display\n",
    "\n",
    "display(Image(analyzer_graph.get_graph().draw_mermaid_png()))"
   ]
  },
  {
   "cell_type": "code",
   "execution_count": 13,
   "metadata": {},
   "outputs": [
    {
     "name": "stdout",
     "output_type": "stream",
     "text": [
      "{'supervisor': {'next': 'analyzer'}}\n",
      "---\n",
      "{'analyzer': {'messages': [HumanMessage(content='El texto proporciona un resumen conciso sobre diferentes aspectos de Ecuador, pero existen oportunidades para enriquecer su análisis mediante la inclusión de información adicional y la consideración de posibles sesgos.\\n\\n1. **Toponimia**: La explicación del nombre \"Ecuador\" es simple y correcta, haciendo referencia a su ubicación geográfica respecto a la línea del ecuador. Sin embargo, sería pertinente mencionar cualquier influencia cultural o histórica adicional que pueda haber tenido en la elección del nombre.\\n\\n2. **Historia**: Se identifican períodos importantes en la historia de Ecuador, pero el típico enfoque en periodos grandes podría omitir detalles sobre grupos indígenas y su impacto cultural, social y político en años recientes. Además, al hablar del desarrollo de la República, convendría examinar eventos claves como la Revolución Liberal y su influencia en las reformas agrarias y educativas, así como los movimientos sociales en el siglo XX, incluyendo el papel de los movimientos indígenas.\\n\\n3. **Estado y política**: La estructura política está resumida correctamente como un sistema presidencialista y descentralizado. Sería útil explorar cómo esta estructura afecta la política en las diferentes regiones del país o destacar momentos recientes de importancia, como reformas constitucionales o cambios de gobierno significativos. También es relevante considerar la historia de inestabilidad política que ha afectado al país y cómo esta se ha ido manejando a través del sistema de control y transparencia mencionado.\\n\\nEn general, el texto carece de referencias a temas contemporáneos como la economía, aspectos ambientales, diversidad cultural y la situación de los derechos humanos, lo cual podría dar una comprensión más completa del contexto actual de Ecuador. Si necesitas más perspectivas o detalles acerca de un aspecto específico, no dudes en pedir ayuda.', additional_kwargs={}, response_metadata={}, name='analyzer', id='886f298c-9129-43d8-82a5-a1c7743f3151')]}}\n",
      "---\n",
      "{'supervisor': {'next': 'summarizer'}}\n",
      "---\n",
      "{'summarizer': {'messages': [HumanMessage(content='**Informe Estructurado sobre Ecuador**\\n\\n1. **Toponimia**:\\n   - **Descripción**: El nombre \"Ecuador\" se deriva de su ubicación en relación con la línea ecuatorial.\\n   - **Análisis**: Aunque el origen del nombre es claramente geográfico, podría enriquecerse con datos culturales o históricos adicionales que influyan en su aceptación o denominación oficial.\\n\\n2. **Historia**:\\n   - **Era Prehispánica**: Referencia a los habitantes indígenas y su organización social y cultural antes de la llegada de los europeos.\\n   - **Época Virreinal**: Detalle la colonización española y su impacto en la estructura socioeconómica.\\n   - **Independencia y Gran Colombia**: Examinación del proceso de independencia de España y participación en la Gran Colombia.\\n   - **República de Ecuador (Siglos XIX y XX)**: Cobertura de eventos importantes como la Revolución Liberal, reformas agrarias y educativas, y movimientos sociales del siglo XX. Conviene destacar el papel de los movimientos indígenas en la política contemporánea.\\n\\n3. **Estado y Política**:\\n   - **Sistema Gubernamental**: Ecuador es una república presidencialista con un gobierno descentralizado, con la definición de las funciones de los poderes ejecutivo, legislativo, judicial, electoral y transparencia y control social.\\n   - **Evaluación**: Considerar cómo la descentralización afecta de manera diferencial a las distintas regiones. Es crucial también abordar la historia de la inestabilidad política y medidas recientes de reforma o cambios gubernamentales significativos.\\n\\n4. **Áreas No Mencionadas en el Texto Original**:\\n   - **Economía**: El papel de sectores como el petróleo, la agricultura, y el turismo en la economía actual.\\n   - **Aspectos Ambientales**: Incluye la biodiversidad única del país y desafíos ambientales contemporáneos.\\n   - **Cultura**: Mención de la rica diversidad cultural y étnica.\\n   - **Derechos Humanos**: Situación actual y desafíos en derechos humanos.\\n\\n**Conclusión**: Mientras el texto proporciona un resumen estructurado del nombre, la historia y la política de Ecuador, existe una oportunidad de mejorar su profundidad analítica mediante la incorporación de temas contemporáneos y una visión más compleja de su historia y estructura política.', additional_kwargs={}, response_metadata={}, name='summarizer', id='60148b17-39ac-45ca-b354-07983241c12b')]}}\n",
      "---\n",
      "{'supervisor': {'next': 'researcher'}}\n",
      "---\n",
      "{'researcher': {'messages': [HumanMessage(content='El texto presenta un resumen básico y organizado sobre diferentes aspectos de Ecuador, dividido en tres partes principales: toponimia, historia, y estructura política. Aquí te proporciono un análisis enriquecido basado en las áreas cubiertas:\\n\\n1. **Toponimia**:\\n   - La explicación del nombre Ecuador es correcta al atribuirlo a su posición cruzando la línea ecuatorial. Sin embargo, añadir detalles sobre la decisión consciente del nombre, como su adopción oficial y cualquier impacto cultural, podría proporcionar un contexto más enriquecido.\\n\\n2. **Historia**:\\n   - Se cubren ampliamente varios periodos históricos de Ecuador, desde la era prehispánica hasta el desarrollo moderno del país como república. Destacar eventos como los cambios inducidos por la Revolución Liberal, los movimientos sociales del siglo XX, y el impacto e importancia de los grupos indígenas a lo largo de la historia mejoraría la comprensión. Además, se podría expandir describiendo cómo estos eventos históricos han moldeado el Ecuador contemporáneo.\\n\\n3. **Estado y política**:\\n   - El resumen de la estructura política de Ecuador es apropiado, describiéndolo como una república presidencialista con un sistema de gobierno descentralizado. Sin embargo, para un análisis más completo, sería útil explorar la dinámica política regional y cómo eventos recientes han influido en la estabilidad política y social del país. Considerar los cambios constitucionales recientes o la inestabilidad política pasada ofrecería una perspectiva adicional importante.\\n\\nAdemás, el texto podría complementarse al incluir áreas no mencionadas en el análisis original pero relevantes para entender el Ecuador actual, como su economía dependiente del petróleo y la agricultura, su rica biodiversidad y desafíos ambientales, su diversidad cultural, así como la situación de los derechos humanos dentro del país.\\n\\nEn conclusión, enriquecer el análisis cubriendo temas contemporáneos relevantes y proporcionando un entendimiento más complejo sobre la evolución histórica y política del Ecuador podría ofrecer una visión más matizada y completa del país.', additional_kwargs={}, response_metadata={}, name='researcher', id='d80c5ccd-2bba-4f6e-8feb-64853133a8b0')]}}\n",
      "---\n",
      "{'supervisor': {'next': 'summarizer'}}\n",
      "---\n",
      "{'summarizer': {'messages': [HumanMessage(content='**Informe Enriquecido sobre Ecuador**\\n\\n1. **Toponimia**:\\n   - **Descripción**: El nombre \"Ecuador\" se refiere directamente a la línea ecuatorial que atraviesa el territorio.\\n   - **Contexto Adicional**: Aunque derivado de su posición geográfica, la elección del nombre también refleja un período de afirmación nacional al momento de su independencia, consolidando una identidad geográfica singular en Sudamérica.\\n\\n2. **Historia**:\\n   - **Era Prehispánica**: Antes de la conquista, diversas culturas indígenas, como los Quitus y Caras, contribuyeron significativamente al tejido cultural y social del actual Ecuador.\\n   - **Época Virreinal**: La colonización transformó radicalmente la estructura social y económica, introduciendo instituciones españolas y alterando las dinámicas indígenas.\\n   - **Independencia y Gran Colombia**: La independencia se alcanzó en el contexto de una oleada libertadora en América Latina, convirtiéndose brevemente en parte de la Gran Colombia bajo la influencia de Simón Bolívar.\\n   - **Desarrollo Republicano (Siglos XIX y XX)**: Eventos como la Revolución Liberal de finales del siglo XIX liderada por Eloy Alfaro llevaron a profunda modernización y reformas agrarias y educativas. Movimientos sociales e indígenas se mantuvieron activos, influenciando políticas y reformas durante el siglo XX.\\n\\n3. **Estado y Política**:\\n   - **Sistema Gubernamental**: Ecuador opera como una república presidencialista descentralizada con claras funciones ejecutivas, legislativas, judiciales, electorales, y de control social.\\n   - **Análisis Detallado**: La política se caracteriza por notables momentos de inestabilidad con reformas constitucionales periódicas. El descentralismo impacta significativamente diversas regiones, reflejando preferencias y necesidades locales que afectan las políticas nacionales y la implementación de reformas.\\n\\n4. **Áreas Adicionales Relevantes**:\\n   - **Economía**: Dominada por el petróleo y la agricultura, la economía ecuatoriana enfrenta desafíos como la sostenibilidad y diversificación.\\n   - **Medio Ambiente**: Ecuador es notable por su biodiversidad, enfrentando retos en materia de conservación, especialmente en áreas tan críticas como las Islas Galápagos.\\n   - **Cultura y Sociedad**: La rica diversidad cultural, con un tejido étnico variado que incluye importantes contribuciones de los pueblos indígenas, mestizos, afroecuatorianos, y otras comunidades.\\n   - **Derechos Humanos**: Experimenta avances y desafíos, especialmente en relación con los derechos de las comunidades indígenas y el acceso a justicia y equidad social para diversos grupos.\\n\\n**Conclusión**: Este análisis ofrece una perspectiva más completa y profunda sobre Ecuador al incluir matices históricos, políticos, y sociales complementarios, así como menciones a sectores contemporáneos claves para entender su presente situación y sus retos futuros.', additional_kwargs={}, response_metadata={}, name='summarizer', id='6fae9a3c-ef81-457f-b91b-e227476d0fe9')]}}\n",
      "---\n",
      "{'supervisor': {'next': '__end__'}}\n",
      "---\n"
     ]
    }
   ],
   "source": [
    "for s in analyzer_graph.stream(\n",
    "    {\n",
    "        \"messages\": [\n",
    "            (\n",
    "                \"user\",\n",
    "                \"Analiza el siguiente texto: 1. **Toponimia**: El nombre Ecuador hace referencia a la línea ecuatorial que atraviesa el país. 2. **Historia**: Se detalla la era prehispánica, la época virreinal, la independencia y la formación de la Gran Colombia, así como el desarrollo de la República de Ecuador a lo largo de los siglos XIX y XX. 3. **Estado y política**: Ecuador es una república presidencialista con un sistema de gobierno descentralizado. Se describen las funciones ejecutiva, legislativa, judicial, electoral y de transparencia y control social.\",\n",
    "            )\n",
    "        ]\n",
    "    },\n",
    "    {\"recursion_limit\": 100},\n",
    "):\n",
    "    print(s)\n",
    "    print(\"---\")"
   ]
  },
  {
   "cell_type": "markdown",
   "metadata": {},
   "source": [
    "### Add Layers"
   ]
  },
  {
   "cell_type": "code",
   "execution_count": 14,
   "metadata": {},
   "outputs": [],
   "source": [
    "from langchain_core.messages import BaseMessage\n",
    "\n",
    "llm = ChatOpenAI(model=\"gpt-4o\")\n",
    "\n",
    "def call_preprocessing_team(state: State) -> Command[Literal[\"analyzer_team\"]]:\n",
    "    response = preprocessing_graph.invoke({\"messages\": state[\"messages\"][-1]})\n",
    "    return Command(\n",
    "        update={\n",
    "            \"messages\": [\n",
    "                HumanMessage(\n",
    "                    content=response[\"messages\"][-1].content, name=\"preprocessing_team\"\n",
    "                )\n",
    "            ]\n",
    "        },\n",
    "        goto=\"analyzer_team\",\n",
    "    )\n",
    "\n",
    "\n",
    "def call_analyzing_team(state: State) -> Command[Literal[END]]:\n",
    "    response = analyzer_graph.invoke({\"messages\": state[\"messages\"][-1]})\n",
    "    return Command(\n",
    "        update={\n",
    "            \"messages\": [\n",
    "                HumanMessage(\n",
    "                    content=response[\"messages\"][-1].content, name=\"analyzing_team\"\n",
    "                )\n",
    "            ]\n",
    "        },\n",
    "        goto=END,\n",
    "    )\n",
    "\n",
    "\n",
    "# Define the graph.\n",
    "super_builder = StateGraph(State)\n",
    "super_builder.add_node(\"preprocessing_team\", call_preprocessing_team)\n",
    "super_builder.add_node(\"analyzer_team\", call_analyzing_team)\n",
    "\n",
    "super_builder.add_edge(START, \"preprocessing_team\")\n",
    "super_graph = super_builder.compile()"
   ]
  },
  {
   "cell_type": "code",
   "execution_count": 15,
   "metadata": {},
   "outputs": [
    {
     "data": {
      "image/png": "[encoded data removed]",
      "text/plain": [
       "<IPython.core.display.Image object>"
      ]
     },
     "metadata": {},
     "output_type": "display_data"
    }
   ],
   "source": [
    "from IPython.display import Image, display\n",
    "\n",
    "display(Image(super_graph.get_graph().draw_mermaid_png()))"
   ]
  },
  {
   "cell_type": "code",
   "execution_count": 16,
   "metadata": {},
   "outputs": [
    {
     "name": "stdout",
     "output_type": "stream",
     "text": [
      "{'preprocessing_team': {'messages': [HumanMessage(content='# Resumen de Ecuador\\n\\n## 1. Toponimia\\n- El nombre \"Ecuador\" se refiere a la línea ecuatorial que atraviesa el país.\\n\\n## 2. Historia\\n- **Era prehispánica**: Incluye culturas como la Valdivia, una de las más antiguas en América.\\n- **Época Virreinal**: Conquista española y establecimiento de la Real Audiencia de Quito.\\n- **Independencia y Gran Colombia**: Proceso de independencia de España y posterior unión a la Gran Colombia.\\n- **Primer siglo de la República**: Incluye la dominación floreana y la Revolución Liberal.\\n- **Velasquismo y gobiernos militares**: Periodo de inestabilidad política y dictaduras militares.\\n- **Historia contemporánea**: Desde el retorno a la democracia en 1979 hasta la actualidad.\\n\\n## 3. Estado y Política\\n- Ecuador es una república presidencialista.\\n- Cuenta con cinco funciones estatales: Ejecutiva, Legislativa, Judicial, Electoral, y de Transparencia y Control Social.\\n\\n## 4. Organización Territorial\\n- El país se divide en 24 provincias.\\n- Las provincias se subdividen en cantones y parroquias.\\n\\n## 5. Geografía\\n- Ubicado en la línea ecuatorial.\\n- Geografía diversa: región andina, costa, Amazonía e Islas Galápagos.\\n\\n## 6. Demografía\\n- Población de aproximadamente 18 millones de habitantes.\\n- Alta densidad poblacional en la región costera y andina.\\n\\n## 7. Economía\\n- Basada en la exportación de petróleo, banano, flores, camarones y cacao.\\n- La economía ha experimentado crecimiento y desafíos debido a fluctuaciones en los precios del petróleo.\\n\\n## 8. Cultura\\n- Rica en diversidad cultural y biodiversidad.\\n- Mezcla de influencias indígenas, africanas y europeas.\\n\\n## 9. Ciencia y Tecnología\\n- Avances en educación y tecnología.\\n- Enfrenta desafíos en innovación.\\n\\n## 10. Deporte\\n- El fútbol es el deporte más popular.\\n- También destacan el atletismo y el ciclismo.\\n\\nSi necesitas más detalles sobre algún tema específico, no dudes en preguntar.', additional_kwargs={}, response_metadata={}, name='preprocessing_team', id='ebaa43e0-88c9-4780-8301-6d3ecd15d188')]}}\n",
      "---\n",
      "{'analyzer_team': {'messages': [HumanMessage(content='# Informe Analítico: Detalles Profundizados de Ecuador\\n\\n## 1. Toponimia\\n- El término \"Ecuador\" destaca la singularidad geográfica de la nación, situada en la línea ecuatorial, configurando su identidad a nivel mundial.\\n\\n## 2. Historia\\n\\n### Era Prehispánica\\n- **Cultura Valdivia**: Destacada por sus avances en cerámica antigua. Sería beneficioso incluir otras culturas como Quitus, Cañaris e Incas, para ofrecer un panorama más completo y diversificado del periodo prehispánico.\\n\\n### Época Virreinal\\n- **Real Audiencia de Quito**: Sirvió como un centro significativo de control colonial. Una exploración sobre el impacto del sistema de encomienda y la resistencia indígena podría enriquecer el entendimiento de los efectos sociales de la colonia.\\n\\n### Independencia y Gran Colombia\\n- **Proceso de Independencia**: Influyó la ola de movimientos liberadores en América, liderados por figuras como Simón Bolívar. Incluir líderes locales ofrecería una perspectiva más detallada de los esfuerzos hacia la independencia.\\n\\n### Primer Siglo de la República\\n- **Revolución Liberal y Dominación Floreana**: Transformaciones importantes en términos políticos y sociales. Analizar los impactos de estas ideologías proporcionaría un contexto más claro sobre las dinámicas internas del país durante este periodo.\\n\\n### Velasquismo y Gobiernos Militares\\n- Un periodo de marcada inestabilidad política con varios golpes militares. Sería provechoso identificar causas y efectos específicos de estas interrupciones democráticas y sus consecuencias duraderas.\\n\\n### Historia Contemporánea\\n- Desde el retorno a la democracia en 1979, Ecuador ha enfrentado diversos desafíos políticos y económicos. Detallar gobiernos claves, como el de Rafael Correa, podría enriquecer la comprensión de los cambios recientes en su paisaje político.\\n\\n## 3. Estado y Política\\n- **Estructura y Dinámica Política**: Un sistema presidencialista con cinco funciones estatales distintivas. Analizar las dinámicas internas, tensiones y cómo se manejan los conflictos podría aportar a un mayor entendimiento del sistema político actual.\\n\\n## 4. Organización Territorial\\n- **División Administrativa**: Las 24 provincias, junto con cantones y parroquias, reflejan una estructuración compleja. Examinar las disparidades culturales y económicas entre estas divisiones podría proporcionar perspectivas sobre el desarrollo y la administración.\\n\\n## 5. Geografía\\n- Una geografía diversa que incluye áreas de patrimonio mundial como las Islas Galápagos. Investigar el impacto de esta diversidad en la economía, la cultura y la conservación ambiental sería esclarecedor.\\n\\n## 6. Demografía\\n- **Diversidad Étnica**: Aunque se menciona la densidad de población, profundizar en la diversidad étnica y cultural, y las contribuciones de comunidades indígenas, enriquecería el análisis demográfico.\\n\\n## 7. Economía\\n- **Economía Dependiente**: Centrarse en exportaciones de petróleo y productos agropecuarios. Un análisis más profundo de las estrategias de diversificación económica y los efectos del cambio climático sería crucial para entender su sostenibilidad futura.\\n\\n## 8. Cultura\\n- **Mosaico Cultural**: Influencias indígenas, africanas y europeas moldean la identidad cultural. Explorar manifestaciones culturales como festivales, música y patrimonio intangible ayudaría a un entendimiento más comprensivo.\\n\\n## 9. Ciencia y Tecnología\\n- **Desarrollo y Desafíos**: A pesar de avances en educación y tecnología, continúa enfrentándose a desafíos en innovación. Examinar políticas y iniciativas que busquen fortalecer la ciencia y tecnología sería importante para entender el futuro económico de Ecuador.\\n\\n## 10. Deporte\\n- **Deportes Populares**: Principalmente fútbol, además de atletismo y ciclismo. Investigar las figuras prominentes en el deporte ecuatoriano y su influencia social podría ofrecer insights valiosos sobre su rol e impacto en la sociedad.\\n\\nEste informe proporciona una estructura analítica y detallada de Ecuador en cuanto a su geografía, historia, política, economía y cultura. Ofrece múltiples perspectivas, sugiriendo que profundizar en estos temas podría enriquecer enormemente el entendimiento del país. Si se requiere más información o un análisis más específico, no dude en solicitarlo.', additional_kwargs={}, response_metadata={}, name='analyzing_team', id='9207c605-b80f-46ac-b4ce-15c090844259')]}}\n",
      "---\n"
     ]
    }
   ],
   "source": [
    "for s in super_graph.stream(\n",
    "    {\n",
    "        \"messages\": [\n",
    "            (\"user\", \"Scrap the following URL: https://es.wikipedia.org/wiki/Ecuador\",)\n",
    "        ],\n",
    "    },\n",
    "    {\"recursion_limit\": 150},\n",
    "):\n",
    "    print(s)\n",
    "    print(\"---\")"
   ]
  },
  {
   "cell_type": "code",
   "execution_count": null,
   "metadata": {},
   "outputs": [],
   "source": []
  }
 ],
 "metadata": {
  "kernelspec": {
   "display_name": "venv_avender",
   "language": "python",
   "name": "python3"
  },
  "language_info": {
   "codemirror_mode": {
    "name": "ipython",
    "version": 3
   },
   "file_extension": ".py",
   "mimetype": "text/x-python",
   "name": "python",
   "nbconvert_exporter": "python",
   "pygments_lexer": "ipython3",
   "version": "3.13.1"
  }
 },
 "nbformat": 4,
 "nbformat_minor": 2
}
